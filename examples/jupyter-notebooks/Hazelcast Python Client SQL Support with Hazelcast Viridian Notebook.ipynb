{
 "cells": [
  {
   "cell_type": "markdown",
   "source": [
    "# Hazelcast Python Client SQL Support with Hazelcast Viridian\n",
    "\n",
    "This notebook demonstrates the SQL support of Hazelcast Python Client. Hazelcast provides in-depth SQL support for Map data structures kept in Hazelcast Clusters. Using Hazelcast SQL, you can create mappings between your data and a Map and then execute SQL queries against the Map. This support provides fast in-memory computing using SQL engine without writing complex functions that iterate through your maps.\n",
    "You can learn more about SQL Engine from our HazelVision episode: https://www.youtube.com/watch?v=BXWwNCZxLrs</br></br>\n",
    "\n",
    "Through this tutorial, you can either connect to your local cluster or Hazelcast Viridian. If you want to connect your local cluster, remove the config options inside `hazelcast.HazelcastClient()` call. Hazelcast Viridian offers free registration with a 2GB storage area. You can register using the following link and create a cluster in a few minutes: https://viridian.hazelcast.com/.</br></br>\n",
    "\n",
    "If you want to run this notebook on Jupyter locally, you can download the notebook file from our GitHub repo: https://github.com/hazelcast/hazelcast-python-client/tree/master/examples/jupyter-notebooks </br></br> If you have any issues, you can ask your questions in Hazelcast Community channels, find links here: https://hazelcast.com/dev-community/ also feel free to reach out at developer-relations@hazelcast.com"
   ],
   "metadata": {
    "collapsed": false,
    "pycharm": {
     "name": "#%% md\n"
    }
   }
  },
  {
   "cell_type": "markdown",
   "source": [
    "![Tux, the Linux mascot](https://media-exp1.licdn.com/dms/image/C561BAQEDzMqseo-qiA/company-background_10000/0/1626235318986?e=2147483647&v=beta&t=9QQp_S3AuK8-1nMqsSTlL0xy2_JpkNQrzFJ7D_SLUYU)\n"
   ],
   "metadata": {
    "collapsed": false,
    "pycharm": {
     "name": "#%% md\n"
    }
   }
  },
  {
   "cell_type": "markdown",
   "source": [
    "# Install Hazelcast Client\n",
    "\n",
    "Before moving forward, we should install the Hazelcast client.\n",
    "Hazelcast clients allow you to extend the benefits of operational in-memory computing to your application. There are clients for six different languages including Java, Go, and C#. These clients are open source and supported by Hazelcast. After installing client, you can directly use it by simply adding an `import hazelcast` line."
   ],
   "metadata": {
    "collapsed": false,
    "pycharm": {
     "name": "#%% md\n"
    }
   }
  },
  {
   "cell_type": "code",
   "execution_count": null,
   "outputs": [],
   "source": [
    "%pip install hazelcast-python-client"
   ],
   "metadata": {
    "collapsed": false,
    "pycharm": {
     "name": "#%%\n"
    }
   }
  },
  {
   "cell_type": "markdown",
   "source": [
    "To use Hazelcast client, you need to have a running Hazelcast cluster. You can quickly create a new account in Hazelcast Viridian and create a cluster. After creating the cluster, we need your cluster name, discovery token and SSL password token to connect from this notebook. You can find these tokens from **Connect Client > Advanced Setup** tab in the Hazelcast Viridian dasboard. Also, please download certificate ZIP file by clicking \"Download keystore file\", we will need SSL certificate files to establish a secure connection with cluster.\n",
    "</br></br> <img src=\"https://media.giphy.com/media/vs7z8uXBd6v9044ZTL/giphy.gif\" alt=\"this slowpoke moves\"  width=\"600\" />"
   ],
   "metadata": {
    "collapsed": false,
    "pycharm": {
     "name": "#%% md\n"
    }
   }
  },
  {
   "cell_type": "code",
   "execution_count": null,
   "outputs": [],
   "source": [
    "#@title Hazelcast Viridian Authentication Tokens\n",
    "\n",
    "#@markdown Run this cell and paste your Viridian tokens to textboxes that will show up.\n",
    "#@markdown It will ask for your cluster name, discovery token and keystore password. \n",
    "#@markdown Also, a file upload button will be showed up for you to upload ZIP file that contains your certificates.  \n",
    "\n",
    "import zipfile\n",
    "import random\n",
    "import string\n",
    "import tkinter as tk\n",
    "from tkinter import filedialog\n",
    "from getpass import getpass\n",
    "\n",
    "CLUSTER_NAME = getpass('Your cluster name: ')\n",
    "DISCOVERY_TOKEN = getpass('Your discovery token: ')\n",
    "SSL_PASSWORD = getpass('Your keystore/trustore password token: ')\n",
    "file_dir = \"\"\n",
    "\n",
    "root = tk.Tk()\n",
    "root.withdraw()\n",
    "file_path = filedialog.askopenfilename()\n",
    "zf = zipfile.ZipFile(file_path)\n",
    "curr = !pwd\n",
    "file_dir = curr[0]+'/hzkeys-'+''.join(random.choice(string.ascii_lowercase) for i in range(10))\n",
    "zf.extractall(file_dir)\n",
    "\n",
    "CA_PATH  = file_dir + \"/ca.pem\" \n",
    "CERT_PATH= file_dir + \"/cert.pem\"\n",
    "KEY_PATH = file_dir + \"/key.pem\"\n",
    "print(\"Your tokens and certificates successfully uploaded.\")"
   ],
   "metadata": {
    "collapsed": false,
    "pycharm": {
     "name": "#%%\n"
    }
   }
  },
  {
   "cell_type": "markdown",
   "source": [
    "Instead of hard-coding data entries to our Map, we will use an API source to pull large amount of data to our cluster. We decided to use a movie API named **The Movie Database (TMDB)** which returns in-depth movie and actor data for us as JSON objects. To be able to send a request to this API, you will need an API key. You can create it in 1-2 minutes from their website. Note that you need to create an account first and then go to **Settings > API > Create New Key**. It may ask for some information about your project; providing short descriptions like \"Experimenting API requests\" is enough.\n",
    "\n",
    "https://www.themoviedb.org/signup"
   ],
   "metadata": {
    "collapsed": false,
    "pycharm": {
     "name": "#%% md\n"
    }
   }
  },
  {
   "cell_type": "code",
   "execution_count": null,
   "outputs": [],
   "source": [
    "#@title Connect to API\n",
    "#@markdown Run this cell from top-left corner and paste your API key to the textbox.\n",
    "\n",
    "API_KEY = getpass('Your API key: ')"
   ],
   "metadata": {
    "collapsed": false,
    "pycharm": {
     "name": "#%%\n"
    }
   }
  },
  {
   "cell_type": "markdown",
   "source": [
    "Now, we are ready to pull data and load it to our Hazelcast cluster. You can embed Hazelcast inside your program by simply inserting a module, `hazelcast-python-client`, and utilize all the methods using this package."
   ],
   "metadata": {
    "collapsed": false,
    "pycharm": {
     "name": "#%% md\n"
    }
   }
  },
  {
   "cell_type": "markdown",
   "source": [
    "# Imports"
   ],
   "metadata": {
    "collapsed": false,
    "pycharm": {
     "name": "#%% md\n"
    }
   }
  },
  {
   "cell_type": "code",
   "execution_count": null,
   "outputs": [],
   "source": [
    "import hazelcast\n",
    "import requests"
   ],
   "metadata": {
    "collapsed": false,
    "pycharm": {
     "name": "#%%\n"
    }
   }
  },
  {
   "cell_type": "markdown",
   "source": [
    "# Connect To Hazelcast Cluster"
   ],
   "metadata": {
    "collapsed": false,
    "pycharm": {
     "name": "#%% md\n"
    }
   }
  },
  {
   "cell_type": "markdown",
   "source": [
    "We are ready to connect our cluster from Python program. Hazelcast uses config settings to find your cluster. We are providing our Viridian tokens for configuration to connect Hazelcast Cloud. After seeing the `Connection successful.` message, we can create mappings for our data. \n",
    "\n",
    "Reminder: If you want to connect to a local cluster in Jupyter Notebook, you should download the notebook file and remove the Viridian configuration options inside `hazelcast.HazelcastClient()` functional call."
   ],
   "metadata": {
    "collapsed": false,
    "pycharm": {
     "name": "#%% md\n"
    }
   }
  },
  {
   "cell_type": "code",
   "execution_count": null,
   "outputs": [],
   "source": [
    "hazelcast.discovery.HazelcastCloudDiscovery._CLOUD_URL_BASE = \"api.viridian.hazelcast.com\"\n",
    "client = hazelcast.HazelcastClient(\n",
    "    cluster_name=CLUSTER_NAME,\n",
    "    cloud_discovery_token=DISCOVERY_TOKEN,\n",
    "    statistics_enabled=True,\n",
    "    ssl_enabled=True,\n",
    "    ssl_cafile=CA_PATH,\n",
    "    ssl_certfile=CERT_PATH,\n",
    "    ssl_keyfile=KEY_PATH,\n",
    "    ssl_password=SSL_PASSWORD\n",
    ")\n",
    "\n",
    "print(\"Connection successful. You are connected to your %s Viridian cluster.\" % CLUSTER_NAME)"
   ],
   "metadata": {
    "collapsed": false,
    "pycharm": {
     "name": "#%%\n"
    }
   }
  },
  {
   "cell_type": "markdown",
   "source": [
    "# Create Mapping between your data and Map"
   ],
   "metadata": {
    "collapsed": false,
    "pycharm": {
     "name": "#%% md\n"
    }
   }
  },
  {
   "cell_type": "markdown",
   "source": [
    "Here is the critical part. We will insert the data from TMDB API to our Hazelcast Cluster. You can do this in two way. Firstly, you can get a map by calling `hazelcast.get_map()` method and use `put()`, `remove()` and other methods of the returned distributed map object. Secondly you can create a mapping for your data schema using SQL syntax and it directly creates both map and mapping. We preferred second way to show SQL functions in this notebook. \n",
    "</br></br>In the mapping query, you should sepicfy the fields of data schema. It can be both primitive types or complex types. Using this mapping, we will execute SQL queries on our maps. You can select any column you want to map; not all fields are mandatory. For more information about mapping, you can visit https://docs.hazelcast.com/hazelcast/5.1/sql/mapping-to-maps\n",
    "</br></br>\n",
    "Now, execute following cells to create mappings to execute SQL queries against your data."
   ],
   "metadata": {
    "collapsed": false,
    "pycharm": {
     "name": "#%% md\n"
    }
   }
  },
  {
   "cell_type": "code",
   "execution_count": null,
   "outputs": [],
   "source": [
    "query = \"\"\"\n",
    "    CREATE OR REPLACE MAPPING movies (\n",
    "        __key INT,\n",
    "        id INT,\n",
    "        title VARCHAR,\n",
    "        popularity DOUBLE,\n",
    "        release_date VARCHAR,\n",
    "        vote_average DOUBLE,\n",
    "        vote_count INT\n",
    "    )\n",
    "    TYPE IMap OPTIONS(\n",
    "        'keyFormat' = 'int',\n",
    "        'valueFormat' = 'json-flat'\n",
    "    )\n",
    "\"\"\"\n",
    "client.sql.execute(query).result()\n",
    "print(\"Mapping for 'movies' has been created.\")"
   ],
   "metadata": {
    "collapsed": false,
    "pycharm": {
     "name": "#%%\n"
    }
   }
  },
  {
   "cell_type": "code",
   "execution_count": null,
   "outputs": [],
   "source": [
    "query = \"\"\"\n",
    "    CREATE OR REPLACE MAPPING casts (\n",
    "        __key INT,\n",
    "        movie_id INT,\n",
    "        actor_id INT\n",
    "    )\n",
    "    TYPE IMap OPTIONS(\n",
    "        'keyFormat' = 'int',\n",
    "        'valueFormat' = 'json-flat'\n",
    "    )\n",
    "\"\"\"\n",
    "client.sql.execute(query).result()\n",
    "print(\"Mapping for 'cast' has been created.\")"
   ],
   "metadata": {
    "collapsed": false,
    "pycharm": {
     "name": "#%%\n"
    }
   }
  },
  {
   "cell_type": "code",
   "execution_count": null,
   "outputs": [],
   "source": [
    "query = \"\"\"\n",
    "    CREATE OR REPLACE MAPPING actors (\n",
    "        __key INT,\n",
    "        gender INT,\n",
    "        id INT,\n",
    "        name VARCHAR,\n",
    "        popularity DOUBLE\n",
    "    )\n",
    "    TYPE IMap OPTIONS(\n",
    "        'keyFormat' = 'int',\n",
    "        'valueFormat' = 'json-flat'\n",
    "    )\n",
    "\"\"\"\n",
    "client.sql.execute(query).result()\n",
    "print(\"Mapping for 'actors' has been created.\")"
   ],
   "metadata": {
    "collapsed": false,
    "pycharm": {
     "name": "#%%\n"
    }
   }
  },
  {
   "cell_type": "code",
   "execution_count": null,
   "outputs": [],
   "source": [
    "query = \"\"\"\n",
    "    CREATE OR REPLACE MAPPING reviews (\n",
    "        __key INT,\n",
    "        movie_id INT,\n",
    "        author VARCHAR,\n",
    "        rating DOUBLE,\n",
    "        content VARCHAR\n",
    "    )\n",
    "    TYPE IMap OPTIONS(\n",
    "        'keyFormat' = 'int',\n",
    "        'valueFormat' = 'json-flat'\n",
    "    )\n",
    "\"\"\"\n",
    "client.sql.execute(query).result()\n",
    "print(\"Mapping for 'reviews' has been created.\")"
   ],
   "metadata": {
    "collapsed": false,
    "pycharm": {
     "name": "#%%\n"
    }
   }
  },
  {
   "cell_type": "markdown",
   "source": [
    "You can control your mappings by opening Management Center for your cluster. Select your cluster from your Viridian dashboard and then click to \"Management Center\". It will open the Management Center in a new tab, you can inspect your cluster properties from this page. Click to \"SQL Browser\" at the top-right of the page to open SQL prompt. \n",
    "\n",
    "<img src=\"https://media.giphy.com/media/3Htnl3mItmpvcdblDr/giphy.gif\" alt=\"this slowpoke moves\"  width=\"600\" />"
   ],
   "metadata": {
    "collapsed": false,
    "pycharm": {
     "name": "#%% md\n"
    }
   }
  },
  {
   "cell_type": "markdown",
   "source": [
    "# Load Data from API"
   ],
   "metadata": {
    "collapsed": false,
    "pycharm": {
     "name": "#%% md\n"
    }
   }
  },
  {
   "cell_type": "markdown",
   "source": [
    "Now, we are ready to pull our data from the TMDB API and load them to our Hazelcast Cluster. To do that, we need to send requests to our API provider. Following cells send API requests and insert results into appropriate maps.\n",
    "\n",
    "**This step may take time, depending on your connection speed and server latency. As long as there is no error and an `[*]` is present near to cell, do not worry.**"
   ],
   "metadata": {
    "collapsed": false,
    "pycharm": {
     "name": "#%% md\n"
    }
   }
  },
  {
   "cell_type": "code",
   "execution_count": null,
   "outputs": [],
   "source": [
    "key = 1\n",
    "for i in range(1,25):\n",
    "    data = requests.get(\"https://api.themoviedb.org/3/movie/top_rated?api_key=%s&language=en-US&page=%d\" % (API_KEY, i)).json()\n",
    "    for m in data['results']:\n",
    "      query = \"\"\"SINK INTO movies(__key, id, title, popularity, release_date, vote_average, vote_count)\n",
    "                 VALUES(?, ?, ?, ?, ?, ?, ?)\"\"\"\n",
    "      client.sql.execute(query,\n",
    "                         key,\n",
    "                         m[\"id\"],\n",
    "                         m[\"original_title\"].replace(\"'\",\"''\"),\n",
    "                         m[\"popularity\"],\n",
    "                         m[\"release_date\"],\n",
    "                         m[\"vote_average\"],\n",
    "                         m[\"vote_count\"]).result()\n",
    "      key += 1\n",
    "print(\"Movie data has been loaded.\")"
   ],
   "metadata": {
    "collapsed": false,
    "pycharm": {
     "name": "#%%\n"
    }
   }
  },
  {
   "cell_type": "code",
   "execution_count": null,
   "outputs": [],
   "source": [
    "key = 0; cast_key = 0;\n",
    "for i in range(1,50):\n",
    "    data = requests.get(\"https://api.themoviedb.org/3/person/popular?api_key=%s&language=en-US&page=%d\" % (API_KEY,i)).json()\n",
    "    for a in data['results']:\n",
    "        query = \"\"\"SINK INTO actors(__key, gender, id, name, popularity)\n",
    "                   VALUES(?, ?, ?, ?, ?)\"\"\"\n",
    "        client.sql.execute(query,\n",
    "                           key,\n",
    "                           a[\"gender\"],\n",
    "                           a[\"id\"],\n",
    "                           a[\"name\"],\n",
    "                           a[\"popularity\"]).result()\n",
    "        key += 1\n",
    "        for c in a['known_for']:\n",
    "            if c['media_type'] == 'movie':\n",
    "                query = \"\"\"SINK INTO casts(__key, movie_id, actor_id)\n",
    "                          VALUES(?, ?, ?)\"\"\"\n",
    "                client.sql.execute(query,\n",
    "                                   cast_key,\n",
    "                                   c['id'],\n",
    "                                   a['id']).result()\n",
    "                cast_key += 1\n",
    "print(\"Actor and Cast data has been loaded.\")"
   ],
   "metadata": {
    "collapsed": false,
    "pycharm": {
     "name": "#%%\n"
    }
   }
  },
  {
   "cell_type": "code",
   "execution_count": null,
   "outputs": [],
   "source": [
    "key = 0\n",
    "with client.sql.execute(\"SELECT id FROM movies WHERE __key< %d \"% 200).result() as result:\n",
    "    for row in result:\n",
    "      id = row['id']\n",
    "      url = \"https://api.themoviedb.org/3/movie/%d/reviews?api_key=%s&language=en-US&page=1\" % (id, API_KEY)\n",
    "      data = requests.get(url).json()\n",
    "\n",
    "      for r in data['results']:\n",
    "        query = \"\"\"SINK INTO reviews(__key, movie_id, author, rating, content)\n",
    "                   VALUES(?, ?, ?, ?, ?)\"\"\"\n",
    "        client.sql.execute(query,\n",
    "                          key,\n",
    "                          id,\n",
    "                          r['author_details']['username'],\n",
    "                          r['author_details']['rating'],\n",
    "                          r['content'].replace(\"'\",\"''\")).result()\n",
    "        key += 1\n",
    "\n",
    "print(\"Review data has been loaded.\")"
   ],
   "metadata": {
    "collapsed": false,
    "pycharm": {
     "name": "#%%\n"
    }
   }
  },
  {
   "cell_type": "markdown",
   "source": [
    "After the loading data operations, there should be approximately </br>\n",
    "*   900 entry in `actors` map\n",
    "*   2400 entry in `casts` map\n",
    "*   500 entry in `movies` map\n",
    "*   300 entry in `reviews` map</br>\n",
    "\n",
    "You can control your Map size and content from the Management Center.\n",
    "\n",
    "<img src=\"https://media.giphy.com/media/TuomuvI4fPUCRzRjkO/giphy.gif\" alt=\"this slowpoke moves\"  width=\"600\" />"
   ],
   "metadata": {
    "collapsed": false,
    "pycharm": {
     "name": "#%% md\n"
    }
   }
  },
  {
   "cell_type": "markdown",
   "source": [
    "# Fun part: SQL queries \n",
    "\n",
    "In the following examples, we will observe different SQL funtions supported by Hazelcast and execute them to process our data quickly. You can edit the queries directly and experiment SQL support hands-on.  Fasten the belts!"
   ],
   "metadata": {
    "collapsed": false,
    "pycharm": {
     "name": "#%% md\n"
    }
   }
  },
  {
   "cell_type": "markdown",
   "source": [
    "## Movies released before 2015 and high vote average with cote count > 20K \n",
    "\n",
    "In this first query, we will use essential features of SQL, like the `WHERE` clause. We have some filters to select movies among 4K entries, like `vote_count`, `vote_average`, and `release_date`. You can use `AS` keyword to specify the column name of result. Without Hazelcast, typically, we need to iterate over our map and check whether the current entry fits into our definition or not. Also, this approach requires an additional structure to store our selected entries. With the inclusive SQL support of Hazelcast, we can translate our filters to a SQL query and execute it on our map. "
   ],
   "metadata": {
    "collapsed": false,
    "pycharm": {
     "name": "#%% md\n"
    }
   }
  },
  {
   "cell_type": "code",
   "execution_count": null,
   "outputs": [],
   "source": [
    "query = \"\"\"\n",
    "    SELECT m.title AS name, m.vote_average AS average, m.vote_count AS cont\n",
    "    FROM movies m\n",
    "    WHERE m.vote_count > 20000 AND m.vote_average > 7 AND m.release_date < '2015-01-01'\n",
    "    ORDER BY m.popularity DESC\n",
    "\"\"\"\n",
    "\n",
    "result = client.sql.execute(query).result()\n",
    "\n",
    "for row in result:\n",
    "    print('%s has vote average is %.2f with %s voting.' % (row['name'], row['average'], row['cont']) )"
   ],
   "metadata": {
    "collapsed": false,
    "pycharm": {
     "name": "#%%\n"
    }
   }
  },
  {
   "cell_type": "markdown",
   "source": [
    "## Here all-star cast movies for you\n",
    "\n",
    "Sometimes you may want to watch a movie with many star actors! Easy to find those movies among thousands of entries! You need to `JOIN` your two maps on `movie id` and filter those with a total actor popularity point larger than 500. You can use `SUM()` function to find the total value of a column for a group, in this case, for every movie since we are grouping according to `title` of movie. You don't have to deal with any loops, control statements, or additional storage!</br>\n"
   ],
   "metadata": {
    "collapsed": false,
    "pycharm": {
     "name": "#%% md\n"
    }
   }
  },
  {
   "cell_type": "code",
   "execution_count": null,
   "outputs": [],
   "source": [
    "query = \"\"\"\n",
    "    SELECT m.title AS title, m.release_date AS r_date, SUM(a.popularity) AS point\n",
    "    FROM movies m\n",
    "    JOIN casts c ON m.id = c.movie_id\n",
    "    JOIN actors a ON c.actor_id = a.id\n",
    "    GROUP BY m.title, m.release_date\n",
    "    HAVING SUM(a.popularity) > 150\n",
    "    ORDER BY point DESC\n",
    "\"\"\"\n",
    "\n",
    "result = client.sql.execute(query).result()\n",
    "\n",
    "for row in result:\n",
    "        print(\"{0:30} {1:30} Total Popularity Point: {2}\".format(row['title'], row['r_date'], row['point']))"
   ],
   "metadata": {
    "collapsed": false,
    "pycharm": {
     "name": "#%%\n"
    }
   }
  },
  {
   "cell_type": "markdown",
   "source": [
    "## Get the movies that get the highest review ratings from users\n",
    "\n",
    "Now, we will try to get the top ten movies with average ratings higher than eight and at least reviewed by five different users. Note that `reviews` are separate map and different than `vote` which is a column of `movies` table. It looks complicated, right? Typically, you must traverse the two maps in order square. First, get all the reviews for a movie, calculate the average rating, store results in another data structure, and repeat it for all the movies. In the end, you must sort the results in descending order and get the highest ten movies.\n",
    "\n",
    "Don't give up, we are there for you! Using the Hazelcast SQL support, you can use the power of SQL functions and aggregate operations like `ORDER BY()`, `LIMIT()`, and `AVG()` on your Map! You need to write your SQL query as a string and then execute it on your map with just one line, `sql.Execute()`. It's that easy! This operation returns a table, which consists of rows. You can traverse inside results by a simple `for` loop."
   ],
   "metadata": {
    "collapsed": false,
    "pycharm": {
     "name": "#%% md\n"
    }
   }
  },
  {
   "cell_type": "code",
   "execution_count": null,
   "outputs": [],
   "source": [
    "query = \"\"\"\n",
    "    SELECT m.title as name, AVG(r.rating) as rating\n",
    "    FROM movies m\n",
    "    JOIN reviews r ON r.movie_id = m.id\n",
    "    GROUP BY m.title\n",
    "    HAVING AVG(r.rating) > 8 AND COUNT(*) > 5\n",
    "    ORDER BY rating DESC\n",
    "    LIMIT 10\n",
    "\"\"\"\n",
    "\n",
    "result = client.sql.execute(query).result()\n",
    "\n",
    "for row in result:\n",
    "        print(\"Movie Name: %s - Average Rating: %.2f\" % (row['name'], row.get_object('rating')))"
   ],
   "metadata": {
    "collapsed": false,
    "pycharm": {
     "name": "#%%\n"
    }
   }
  },
  {
   "cell_type": "markdown",
   "source": [
    "## Curious about user reviews?\n",
    "\n",
    "There are many detailed reviews in our database. You can find a randomly selected entry for a movie or actor you are curious about. You can use the `LIKE` keyword for searching a specific keyword in our Map. For example, we searched for reviews that contains \"recommend\" keyword and got one between them randomly using the `RAND()` function. You can increase `LIMIT` to get more reviews and add multiple keywords.\n",
    "\n",
    "You can try the same thing with movie descriptions to find a specific movie informations, just use `movie.description` column!"
   ],
   "metadata": {
    "collapsed": false,
    "pycharm": {
     "name": "#%% md\n"
    }
   }
  },
  {
   "cell_type": "code",
   "execution_count": null,
   "outputs": [],
   "source": [
    "import textwrap\n",
    "\n",
    "query = \"\"\"\n",
    "    SELECT m.title, r.author, r.rating, r.content\n",
    "    FROM movies m, reviews r\n",
    "    WHERE r.movie_id=m.id AND \n",
    "          r.content LIKE '%recommend%' AND \n",
    "          r.rating IS NOT NULL\n",
    "    ORDER BY RAND()\n",
    "    LIMIT 1\n",
    "\"\"\"\n",
    "\n",
    "result = client.sql.execute(query).result()\n",
    "\n",
    "for row in result:\n",
    "        print((\"Movie name %s\") % row.get_object('title'))\n",
    "        print(\"-\"*75)\n",
    "\n",
    "        print(\"Review by %s rating is %s/10\" % (row.get_object('author'), row.get_object('rating')))\n",
    "        print(\"-\"*75)\n",
    "        print(textwrap.fill(row.get_object('content'), 75))"
   ],
   "metadata": {
    "collapsed": false,
    "pycharm": {
     "name": "#%%\n"
    }
   }
  },
  {
   "cell_type": "markdown",
   "source": [
    "# Conculusion"
   ],
   "metadata": {
    "collapsed": false,
    "pycharm": {
     "name": "#%% md\n"
    }
   }
  },
  {
   "cell_type": "markdown",
   "source": [
    "Most of the data produced by applications is wasted due to the high workload of processing, especially in real-time. As you can see from the examples, even if it is a simple map search, the algorithmic complexity and effort to execute the filters are tremendous.\n",
    "\n",
    "Hazelcast offers a simple solution to evaluate and process all your data more easily and quickly as a real-time data processing platform. Using Hazelcast's SQL engine, you can skip all of the details and directly work on the value of your customer's data. You can infer much information without dealing with hundreds of line codes and slow executions.\n",
    "\n",
    "You can follow our website and social media channels to learn more about the Hazelcast ecosystem. We would love to answer your questions over our Community channels, find links here: https://hazelcast.com/dev-community/, also feel free to reach out at developer-relations@hazelcast.com."
   ],
   "metadata": {
    "collapsed": false,
    "pycharm": {
     "name": "#%% md\n"
    }
   }
  }
 ],
 "metadata": {
  "colab": {
   "collapsed_sections": [],
   "provenance": [],
   "toc_visible": true
  },
  "kernelspec": {
   "display_name": "Python 3 (ipykernel)",
   "language": "python",
   "name": "python3"
  },
  "language_info": {
   "codemirror_mode": {
    "name": "ipython",
    "version": 3
   },
   "file_extension": ".py",
   "mimetype": "text/x-python",
   "name": "python",
   "nbconvert_exporter": "python",
   "pygments_lexer": "ipython3",
   "version": "3.10.6"
  }
 },
 "nbformat": 4,
 "nbformat_minor": 5
}