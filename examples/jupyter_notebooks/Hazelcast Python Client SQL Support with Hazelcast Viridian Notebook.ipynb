{
 "cells": [
  {
   "cell_type": "markdown",
   "id": "1a981ad9",
   "metadata": {
    "id": "1a981ad9",
    "pycharm": {
     "name": "#%% md\n"
    }
   },
   "source": [
    "# Hazelcast Python Client SQL Support with Hazelcast Viridian\n",
    "\n",
    "This notebook demonstrates the SQL support of Hazelcast Python Client. Hazelcast provides in-depth SQL support for Map data structures kept in Hazelcast Clusters. Using Hazelcast SQL, you can create mappings between your data and a Map and execute SQL queries against the Map. This support provides fast in-memory computing using SQL engine without writing complex functions that iterate through your maps.</br></br>\n",
    "Through this tutorial, you can either connect to your local cluster or Hazelcast Viridian. In this Google Collaboratory version, we will use Hazelcast Viridian as our cluster provider to not worry about setup or installation. Hazelcast Viridian offers free registration with a 2GB storage area. You can register using the following link and create a cluster in a few minutes: https://viridian.hazelcast.cloud/.</br></br> \n",
    "\n",
    "If you want to run this notebook on Jupyter locally, you can download the notebook file from our GitHub repo: https://github.com/hazelcast/hazelcast-python-client/tree/master/examples </br></br> If you have any issues, you can ask your questions in Hazelcast Community channels, find links here: https://hazelcast.com/dev-community/ also feel free to reach out at developer-relations@hazelcast.com "
   ]
  },
  {
   "cell_type": "markdown",
   "id": "efceb447",
   "metadata": {
    "id": "efceb447",
    "pycharm": {
     "name": "#%% md\n"
    }
   },
   "source": [
    "![Tux, the Linux mascot](https://media-exp1.licdn.com/dms/image/C561BAQEDzMqseo-qiA/company-background_10000/0/1626235318986?e=2147483647&v=beta&t=9QQp_S3AuK8-1nMqsSTlL0xy2_JpkNQrzFJ7D_SLUYU)\n"
   ]
  },
  {
   "cell_type": "markdown",
   "id": "7lE1TXDgJCSg",
   "metadata": {
    "id": "7lE1TXDgJCSg",
    "pycharm": {
     "name": "#%% md\n"
    }
   },
   "source": [
    "You can quickly create a new account in Hazelcast Viridian and create a cluster. After creating the cluster, we need your cluster name, discovery token and SSL password token to connect from this notebook. You can find these tokens from **Connect Client > Advanced Setup** tab in the Hazelcast Viridian dasboard. Also, please download certificate ZIP file by clicking \"Download keystore file\", we will need SSL certificate files to establish a secure connection with our cluster.\n",
    "</br></br> <img src=\"https://media.giphy.com/media/vs7z8uXBd6v9044ZTL/giphy.gif\" alt=\"this slowpoke moves\"  width=\"600\" /> "
   ]
  },
  {
   "cell_type": "code",
   "execution_count": null,
   "id": "cr0AguG9Ip50",
   "metadata": {
    "cellView": "form",
    "id": "cr0AguG9Ip50",
    "pycharm": {
     "name": "#%%\n"
    }
   },
   "outputs": [],
   "source": [
    "#@title Hazelcast Viridian Authentication Tokens\n",
    "\n",
    "#@markdown Run this cell and paste your Viridian tokens to textboxes that will show up.\n",
    "#@markdown It will ask for your cluster name, discovery token and keystore password. \n",
    "#@markdown Also, a file upload button will be showed up for you to upload ZIP file that contains your certificates.  \n",
    "\n",
    "import zipfile\n",
    "import random\n",
    "import string\n",
    "import tkinter as tk\n",
    "import tempfile\n",
    "from tkinter import filedialog\n",
    "from getpass import getpass\n",
    "\n",
    "CLUSTER_NAME = getpass('Your cluster name: ')\n",
    "DISCOVERY_TOKEN = getpass('Your discovery token: ')\n",
    "SSL_PASSWORD = getpass('Your keystore/trustore password token: ')\n",
    "file_dir = \"\"\n",
    "\n",
    "root = tk.Tk()\n",
    "root.withdraw()\n",
    "file_path = filedialog.askopenfilename()\n",
    "zf = zipfile.ZipFile(file_path)\n",
    "curr = !pwd\n",
    "file_dir = curr[0]+'/hzkeys-'+''.join(random.choice(string.ascii_lowercase) for i in range(10))\n",
    "zf.extractall(file_dir)\n",
    "\n",
    "CA_PATH  = file_dir + \"/ca.pem\" \n",
    "CERT_PATH= file_dir + \"/cert.pem\"\n",
    "KEY_PATH = file_dir + \"/key.pem\"\n",
    "print(\"Your tokens and certificates successfully uploaded.\")"
   ]
  },
  {
   "cell_type": "markdown",
   "id": "ca811367",
   "metadata": {
    "id": "ca811367",
    "pycharm": {
     "name": "#%% md\n"
    }
   },
   "source": [
    "Instead of hard-coding data entries to our Map, we will use an API source to pull large amount of data to our cluster. We decided to use a movie API named **The Movie Database (TMDB)** which returns in-depth movie and actor data for us as JSON objects. To be able to send a request to this API, you will need an API key. You can create it in 1-2 minutes from their website. Note that you need to create an account first and then go to **Settings > API > Create New Key**. It may ask for some information about your project; providing short descriptions like \"Experimenting API requests\" is enough.\n",
    "\n",
    "https://www.themoviedb.org/signup"
   ]
  },
  {
   "cell_type": "code",
   "execution_count": null,
   "id": "vHwWIb8cmUsH",
   "metadata": {
    "cellView": "form",
    "id": "vHwWIb8cmUsH",
    "pycharm": {
     "name": "#%%\n"
    }
   },
   "outputs": [],
   "source": [
    "#@title Connect to API\n",
    "#@markdown Run this cell from top-left corner and paste your API key to the textbox.\n",
    "\n",
    "API_KEY = getpass('Your API key: ')"
   ]
  },
  {
   "cell_type": "markdown",
   "id": "967748cb",
   "metadata": {
    "id": "967748cb",
    "pycharm": {
     "name": "#%% md\n"
    }
   },
   "source": [
    "Now, we have ready data source and data storage and now it's turn of Python client. We need to install Hazelcast Python client to use the functionality of Hazelcast from our Python application. You can embed Hazelcast inside your program by simply inserting a module, `hazelcast-python-client`, and utilize all the methods using this package."
   ]
  },
  {
   "cell_type": "markdown",
   "id": "8ya6wYFme4X0",
   "metadata": {
    "id": "8ya6wYFme4X0",
    "pycharm": {
     "name": "#%% md\n"
    }
   },
   "source": [
    "# Install Hazelcast Client"
   ]
  },
  {
   "cell_type": "code",
   "execution_count": null,
   "id": "ab628f85",
   "metadata": {
    "id": "ab628f85",
    "pycharm": {
     "name": "#%%\n"
    }
   },
   "outputs": [],
   "source": [
    "%pip install hazelcast-python-client"
   ]
  },
  {
   "cell_type": "markdown",
   "id": "L4LDY9RZeDT1",
   "metadata": {
    "id": "L4LDY9RZeDT1",
    "pycharm": {
     "name": "#%% md\n"
    }
   },
   "source": [
    "# Imports"
   ]
  },
  {
   "cell_type": "code",
   "execution_count": null,
   "id": "f734298a",
   "metadata": {
    "id": "f734298a",
    "pycharm": {
     "name": "#%%\n"
    }
   },
   "outputs": [],
   "source": [
    "import hazelcast\n",
    "import json\n",
    "import requests"
   ]
  },
  {
   "cell_type": "markdown",
   "id": "VUM_wT34eM51",
   "metadata": {
    "id": "VUM_wT34eM51",
    "pycharm": {
     "name": "#%% md\n"
    }
   },
   "source": [
    "# Connect To Hazelcast Cluster"
   ]
  },
  {
   "cell_type": "markdown",
   "id": "0b504f89",
   "metadata": {
    "id": "0b504f89",
    "pycharm": {
     "name": "#%% md\n"
    }
   },
   "source": [
    "We are ready to connect our cluster from Python program. Hazelcast uses config settings to find your cluster. We are providing our Viridian tokens for configuration to connect Hazelcast Cloud. After seeing the `Connection successful.` message, we can create mappings for our data. \n",
    "\n",
    "Reminder: If you want to connect to a local cluster in Jupyter Notebook, you should download the notebook file and remove the Viridian configuration options inside `hazelcast.HazelcastClient()` functional call."
   ]
  },
  {
   "cell_type": "code",
   "execution_count": null,
   "id": "6c87a72d",
   "metadata": {
    "id": "6c87a72d",
    "pycharm": {
     "name": "#%%\n"
    }
   },
   "outputs": [],
   "source": [
    "hazelcast.discovery.HazelcastCloudDiscovery._CLOUD_URL_BASE = \"api.viridian.hazelcast.cloud\"\n",
    "client = hazelcast.HazelcastClient(\n",
    "    cluster_name=CLUSTER_NAME,\n",
    "    cloud_discovery_token=DISCOVERY_TOKEN,\n",
    "    statistics_enabled=True,\n",
    "    ssl_enabled=True,\n",
    "    ssl_cafile=CA_PATH,\n",
    "    ssl_certfile=CERT_PATH,\n",
    "    ssl_keyfile=KEY_PATH,\n",
    "    ssl_password=SSL_PASSWORD\n",
    ")\n",
    "\n",
    "print(\"Connection successful. You are connected to your Viridian %s cluster.\" % CLUSTER_NAME)"
   ]
  },
  {
   "cell_type": "markdown",
   "id": "w89Aj4rNegPA",
   "metadata": {
    "id": "w89Aj4rNegPA",
    "pycharm": {
     "name": "#%% md\n"
    }
   },
   "source": [
    "# Create Mapping between your data and Map"
   ]
  },
  {
   "cell_type": "markdown",
   "id": "rldEwkMrB9Yc",
   "metadata": {
    "id": "rldEwkMrB9Yc",
    "pycharm": {
     "name": "#%% md\n"
    }
   },
   "source": [
    "Here is the critical part. We will insert the data from TMDB API to our Hazelcast Cluster. You can do this in two way. Firstly, you can get a map by calling `hazelcast.get_map()` method and use `put()`, `remove()` and other methods of the returned distributed map object. Secondly you can create a mapping for your data schema using SQL syntax and it directly creates both map and mapping. We preferred second way to show SQL functions in this notebook. \n",
    "</br></br>In the mapping query, you should sepicfy the fields of data schema. It can be both primitive types or complex types. Using this mapping, we will execute SQL queries on our maps. You can select any column you want to map; not all fields are mandatory. For more information about mapping, you can visit https://docs.hazelcast.com/hazelcast/5.1/sql/mapping-to-maps\n",
    "</br></br>\n",
    "Now, execute following cells to create mappings to execute SQL queries against your data."
   ]
  },
  {
   "cell_type": "code",
   "execution_count": null,
   "id": "c5922c15",
   "metadata": {
    "id": "c5922c15",
    "pycharm": {
     "name": "#%%\n"
    }
   },
   "outputs": [],
   "source": [
    "query = \"\"\"\n",
    "    CREATE OR REPLACE MAPPING movies (\n",
    "        __key VARCHAR, \n",
    "        id INT,\n",
    "        original_title VARCHAR,\n",
    "        popularity DECIMAL,\n",
    "        release_date VARCHAR,\n",
    "        vote_average DECIMAL,\n",
    "        vote_count INT\n",
    "    )\n",
    "    TYPE IMap OPTIONS(\n",
    "        'keyFormat' = 'varchar',\n",
    "        'valueFormat' = 'json-flat'\n",
    "    )\n",
    "\"\"\"\n",
    "client.sql.execute(query).result()\n",
    "print(\"Mapping for 'movies' has been created.\")"
   ]
  },
  {
   "cell_type": "code",
   "execution_count": null,
   "id": "28fae79d",
   "metadata": {
    "id": "28fae79d",
    "pycharm": {
     "name": "#%%\n"
    }
   },
   "outputs": [],
   "source": [
    "query = \"\"\"\n",
    "    CREATE OR REPLACE MAPPING casts (\n",
    "        __key VARCHAR,\n",
    "        movie_id INT,\n",
    "        actor_id INT\n",
    "    )\n",
    "    TYPE IMap OPTIONS(\n",
    "        'keyFormat' = 'varchar',\n",
    "        'valueFormat' = 'json-flat'\n",
    "    )\n",
    "\"\"\"\n",
    "client.sql.execute(query).result()\n",
    "print(\"Mapping for 'cast' has been created.\")"
   ]
  },
  {
   "cell_type": "code",
   "execution_count": null,
   "id": "a883f05c",
   "metadata": {
    "id": "a883f05c",
    "pycharm": {
     "name": "#%%\n"
    }
   },
   "outputs": [],
   "source": [
    "query = \"\"\"\n",
    "    CREATE OR REPLACE MAPPING actors (\n",
    "        __key VARCHAR,\n",
    "        gender INT,\n",
    "        id INT,\n",
    "        name VARCHAR,\n",
    "        popularity DECIMAL\n",
    "    )\n",
    "    TYPE IMap OPTIONS(\n",
    "        'keyFormat' = 'varchar',\n",
    "        'valueFormat' = 'json-flat'\n",
    "    )\n",
    "\"\"\"\n",
    "client.sql.execute(query).result()\n",
    "print(\"Mapping for 'actors' has been created.\")"
   ]
  },
  {
   "cell_type": "code",
   "execution_count": null,
   "id": "40861e41",
   "metadata": {
    "id": "40861e41",
    "pycharm": {
     "name": "#%%\n"
    }
   },
   "outputs": [],
   "source": [
    "query = \"\"\"\n",
    "    CREATE OR REPLACE MAPPING reviews (\n",
    "        __key VARCHAR,\n",
    "        movie_id INT,\n",
    "        author VARCHAR,\n",
    "        rating VARCHAR,\n",
    "        content VARCHAR\n",
    "    )\n",
    "    TYPE IMap OPTIONS(\n",
    "        'keyFormat' = 'varchar',\n",
    "        'valueFormat' = 'json-flat'\n",
    "    )\n",
    "\"\"\"\n",
    "client.sql.execute(query).result()\n",
    "print(\"Mapping for reviews has been created.\")"
   ]
  },
  {
   "cell_type": "markdown",
   "id": "1Z8Ef4_lMxCm",
   "metadata": {
    "id": "1Z8Ef4_lMxCm",
    "pycharm": {
     "name": "#%% md\n"
    }
   },
   "source": [
    "You can control your mappings by opening Management Center for your cluster. Select your cluster from your Viridian dashboard and then click to \"Management Center\". It will open the Management Center in a new tab, you can inspect your cluster properties from this page. Click to \"SQL Browser\" at the top-right of the page to open SQL prompt. \n",
    "\n",
    "<img src=\"https://media.giphy.com/media/3Htnl3mItmpvcdblDr/giphy.gif\" alt=\"this slowpoke moves\"  width=\"600\" />"
   ]
  },
  {
   "cell_type": "markdown",
   "id": "AGjd7FVxeniP",
   "metadata": {
    "id": "AGjd7FVxeniP",
    "pycharm": {
     "name": "#%% md\n"
    }
   },
   "source": [
    "# Load Data from API"
   ]
  },
  {
   "cell_type": "markdown",
   "id": "b03df262",
   "metadata": {
    "id": "b03df262",
    "pycharm": {
     "name": "#%% md\n"
    }
   },
   "source": [
    "Now, we are ready to pull our data from the TMDB API and load them to our Hazelcast Cluster. To do that, we need to send requests to our API provider. Following cells send API requests and insert results into appropriate maps.\n",
    "\n",
    "**This step may take time, depending on your connection speed and server latency. As long as there is no error and an `[*]` is present near to cell, do not worry.**"
   ]
  },
  {
   "cell_type": "code",
   "execution_count": null,
   "id": "5b84720d",
   "metadata": {
    "id": "5b84720d",
    "pycharm": {
     "name": "#%%\n"
    }
   },
   "outputs": [],
   "source": [
    "key = 1\n",
    "for i in range(1,25):\n",
    "    data = requests.get(\"https://api.themoviedb.org/3/movie/top_rated?api_key=%s&language=en-US&page=%d\" % (API_KEY, i)).json()\n",
    "    for m in data['results']:\n",
    "      query = \"\"\"SINK INTO movies(__key, id, original_title, popularity, release_date, vote_average, vote_count)\n",
    "                 VALUES(\\'%s\\', %d, \\'%s\\', %f, \\'%s\\', %f, %d)\"\"\" % (\n",
    "                     key, \n",
    "                     m[\"id\"], \n",
    "                     m[\"title\"].replace(\"'\",\"''\"), \n",
    "                     m[\"popularity\"], \n",
    "                     m[\"release_date\"], \n",
    "                     m[\"vote_average\"], \n",
    "                     m[\"vote_count\"])\n",
    "      client.sql.execute(query)\n",
    "      key += 1\n",
    "print(\"Movie data has been loaded.\")"
   ]
  },
  {
   "cell_type": "code",
   "execution_count": null,
   "id": "1f9499bd",
   "metadata": {
    "id": "1f9499bd",
    "pycharm": {
     "name": "#%%\n"
    }
   },
   "outputs": [],
   "source": [
    "key = 0; cast_key = 0;\n",
    "for i in range(1,50):\n",
    "    data = requests.get(\"https://api.themoviedb.org/3/person/popular?api_key=%s&language=en-US&page=%d\" % (API_KEY,i)).json()\n",
    "    for a in data['results']:\n",
    "\n",
    "        query = \"\"\"SINK INTO actors(__key, gender, id, name, popularity)\n",
    "                   VALUES(\\'%s\\', %d, %d, \\'%s\\', %f)\"\"\" % (\n",
    "                       key, \n",
    "                       a[\"gender\"], \n",
    "                       a[\"id\"],\n",
    "                       a[\"name\"],\n",
    "                       a[\"popularity\"])\n",
    "        client.sql.execute(query)\n",
    "        key += 1\n",
    "        \n",
    "        for c in a['known_for']:\n",
    "            if c['media_type'] == 'movie':\n",
    "                query = \"\"\"SINK INTO casts(__key, movie_id, actor_id)\n",
    "                          VALUES(\\'%s\\', %d, %d)\"\"\" % (\n",
    "                              cast_key,\n",
    "                              c['id'],\n",
    "                              a['id'])\n",
    "                client.sql.execute(query)\n",
    "                cast_key += 1\n",
    "print(\"Actor and Cast data has been loaded.\")"
   ]
  },
  {
   "cell_type": "code",
   "execution_count": null,
   "id": "4eb8725e",
   "metadata": {
    "id": "4eb8725e",
    "pycharm": {
     "name": "#%%\n"
    }
   },
   "outputs": [],
   "source": [
    "key = 0\n",
    "\n",
    "with client.sql.execute(\"SELECT id FROM movies WHERE __key<\\'%s\\'\"% 200).result() as result:\n",
    "    for row in result:\n",
    "      id = row['id']\n",
    "\n",
    "      url = \"https://api.themoviedb.org/3/movie/%d/reviews?api_key=%s&language=en-US&page=1\" % (id, API_KEY)\n",
    "      data = requests.get(url).json()\n",
    "\n",
    "      for r in data['results']:\n",
    "\n",
    "        query = \"\"\"SINK INTO reviews(__key, movie_id, author, rating, content)\n",
    "                   VALUES(\\'%s\\', %d, \\'%s\\', \\'%s\\', \\'%s\\')\"\"\" % (\n",
    "                       key,\n",
    "                       id, \n",
    "                       r['author_details']['username'], \n",
    "                       r['author_details']['rating'], \n",
    "                       r['content'].replace(\"'\",\"''\"))\n",
    "\n",
    "        client.sql.execute(query).result()\n",
    "        key += 1\n",
    "\n",
    "print(\"Review data has been loaded.\")"
   ]
  },
  {
   "cell_type": "markdown",
   "id": "70724487",
   "metadata": {
    "id": "70724487",
    "pycharm": {
     "name": "#%% md\n"
    }
   },
   "source": [
    "After the loading data operations, there should be approximately </br>\n",
    "*   900 entry in `actors` map\n",
    "*   2400 entry in `casts` map\n",
    "*   500 entry in `movies` map\n",
    "*   300 entry in `reviews` map</br>\n",
    "\n",
    "You can control your Map size and content from the Management Center.\n",
    "\n",
    "<img src=\"https://media.giphy.com/media/TuomuvI4fPUCRzRjkO/giphy.gif\" alt=\"this slowpoke moves\"  width=\"600\" />"
   ]
  },
  {
   "cell_type": "markdown",
   "id": "HD5RBMXzgJAX",
   "metadata": {
    "id": "HD5RBMXzgJAX",
    "pycharm": {
     "name": "#%% md\n"
    }
   },
   "source": [
    "# Fun part: SQL queries \n",
    "\n",
    "In the following examples, we will observe different SQL funtions supported by Hazelcast and execute them to process our data quickly. You can edit the queries directly and experiment SQL support hands-on.  Fasten the belts!"
   ]
  },
  {
   "cell_type": "markdown",
   "id": "3f_XzcZaDEP8",
   "metadata": {
    "id": "3f_XzcZaDEP8",
    "pycharm": {
     "name": "#%% md\n"
    }
   },
   "source": [
    "## Movies released before 2015 and high vote average with cote count > 20K \n",
    "\n",
    "In this first query, we will use essential features of SQL, like the `WHERE` clause. We have some filters to select movies among 4K entries, like `vote_count`, `vote_average`, and `release_date`. You can use `AS` keyword to specify the column name of result. Without Hazelcast, typically, we need to iterate over our map and check whether the current entry fits into our definition or not. Also, this approach requires an additional structure to store our selected entries. With the inclusive SQL support of Hazelcast, we can translate our filters to a SQL query and execute it on our map. "
   ]
  },
  {
   "cell_type": "code",
   "execution_count": null,
   "id": "UM4NNInaDrYY",
   "metadata": {
    "id": "UM4NNInaDrYY",
    "pycharm": {
     "name": "#%%\n"
    }
   },
   "outputs": [],
   "source": [
    "query = \"\"\"\n",
    "    SELECT m.original_title AS name, m.vote_average AS average, m.vote_count AS cont\n",
    "    FROM movies m\n",
    "    WHERE m.vote_count > 20000 AND m.vote_average > 7 AND m.release_date < '2015-01-01'\n",
    "    ORDER BY m.popularity DESC\n",
    "\"\"\"\n",
    "\n",
    "result = client.sql.execute(query).result()\n",
    "\n",
    "for row in result:\n",
    "    print('%s has vote average is %.2f with %s voting.' % (row['name'], row['average'], row['cont']) )"
   ]
  },
  {
   "cell_type": "markdown",
   "id": "b723d7c6",
   "metadata": {
    "id": "b723d7c6",
    "pycharm": {
     "name": "#%% md\n"
    }
   },
   "source": [
    "## Here all-star cast movies for you\n",
    "\n",
    "Sometimes you may want to watch a movie with many star actors! Easy to find those movies among thousands of entries! You need to `JOIN` your two maps on `movie id` and filter those with a total actor popularity point larger than 500. You can use `SUM()` function to find the total value of a column for a group, in this case, for every movie since we are grouping according to `title` of movie. You don't have to deal with any loops, control statements, or additional storage!</br>\n"
   ]
  },
  {
   "cell_type": "code",
   "execution_count": null,
   "id": "72590aca",
   "metadata": {
    "id": "72590aca",
    "pycharm": {
     "name": "#%%\n"
    }
   },
   "outputs": [],
   "source": [
    "query = \"\"\"\n",
    "    SELECT m.original_title AS title, m.release_date AS r_date, SUM(a.popularity) AS point\n",
    "    FROM movies m\n",
    "    JOIN casts c ON m.id = c.movie_id\n",
    "    JOIN actors a ON c.actor_id = a.id\n",
    "    GROUP BY m.original_title, m.release_date\n",
    "    HAVING SUM(a.popularity) > 150\n",
    "    ORDER BY point DESC\n",
    "\"\"\"\n",
    "\n",
    "result = client.sql.execute(query).result()\n",
    "\n",
    "for row in result:\n",
    "        print((\"%s %s %d\") % (row['title'], row['r_date'], row['point']))"
   ]
  },
  {
   "cell_type": "markdown",
   "id": "adfFIkzD2Ns6",
   "metadata": {
    "id": "adfFIkzD2Ns6",
    "pycharm": {
     "name": "#%% md\n"
    }
   },
   "source": [
    "## Get the movies that get the highest review ratings from users\n",
    "\n",
    "Now, we will try to get the top ten movies with average ratings higher than eight and at least reviewed by five different users. Note that `reviews` are separate map and different than `vote` which is a column of `movies` table. It looks complicated, right? Typically, you must traverse the two maps in order square. First, get all the reviews for a movie, calculate the average rating, store results in another data structure, and repeat it for all the movies. In the end, you must sort the results in descending order and get the highest ten movies.\n",
    "\n",
    "Don't give up, we are there for you! Using the Hazelcast SQL support, you can use the power of SQL functions and aggregate operations like `ORDER BY()`, `LIMIT()`, and `AVG()` on your Map! You need to write your SQL query as a string and then execute it on your map with just one line, `sql.Execute()`. It's that easy! This operation returns a table, which consists of rows. You can traverse inside results by a simple `for` loop."
   ]
  },
  {
   "cell_type": "code",
   "execution_count": null,
   "id": "5qSGE-17gP0i",
   "metadata": {
    "id": "5qSGE-17gP0i",
    "pycharm": {
     "name": "#%%\n"
    }
   },
   "outputs": [],
   "source": [
    "query = \"\"\"\n",
    "    SELECT m.original_title as name, AVG(r.rating) as rating\n",
    "    FROM movies m\n",
    "    JOIN reviews r ON r.movie_id = m.id\n",
    "    GROUP BY m.original_title\n",
    "    HAVING AVG(r.rating) > 8 AND COUNT(*) > 5\n",
    "    ORDER BY rating DESC\n",
    "    LIMIT 10\n",
    "\"\"\"\n",
    "\n",
    "result = client.sql.execute(query).result()\n",
    "\n",
    "for row in result:\n",
    "        print(\"Movie Name: %s - Average Rating: %.2f\" % (row['name'], row.get_object('rating')))"
   ]
  },
  {
   "cell_type": "markdown",
   "id": "bfdde3df",
   "metadata": {
    "id": "bfdde3df",
    "pycharm": {
     "name": "#%% md\n"
    }
   },
   "source": [
    "## Curious about user reviews?\n",
    "\n",
    "There are many detailed reviews in our database. You can find a randomly selected entry for a movie or actor you are curious about. You can use the `LIKE` keyword for searching a specific keyword in our Map. For example, we searched for entries about Leanardo DiCaprio and got one between them randomly using the `RAND()` function. You can increase `LIMIT` to get more reviews and add multiple keywords. \n",
    "\n",
    "You can try the same thing with movie descriptions to find a specific movie informations, just use `movie.description` column!"
   ]
  },
  {
   "cell_type": "code",
   "execution_count": null,
   "id": "e92dbf0a",
   "metadata": {
    "id": "e92dbf0a",
    "scrolled": true,
    "pycharm": {
     "name": "#%%\n"
    }
   },
   "outputs": [],
   "source": [
    "query = \"\"\"\n",
    "    SELECT m.original_title, r.author, r.rating, r.content\n",
    "    FROM movies m, reviews r\n",
    "    WHERE r.movie_id=m.id AND \n",
    "          r.content LIKE '%recommend%' AND \n",
    "          r.rating IS NOT NULL\n",
    "    ORDER BY RAND()\n",
    "    LIMIT 1\n",
    "\"\"\"\n",
    "\n",
    "result = client.sql.execute(query).result()\n",
    "\n",
    "for row in result:\n",
    "        print((\"Movie name %s\") % row.get_object('original_title'))\n",
    "        print(\"-\"*75)\n",
    "\n",
    "        print(\"Review by %s rating is %s/10\" % (row.get_object('author'), row.get_object('rating')))\n",
    "        print(\"-\"*75)\n",
    "        print(textwrap.fill(row.get_object('content'), 75))"
   ]
  },
  {
   "cell_type": "markdown",
   "id": "d5765a4e",
   "metadata": {
    "id": "d5765a4e",
    "pycharm": {
     "name": "#%% md\n"
    }
   },
   "source": [
    "# Conculusion"
   ]
  },
  {
   "cell_type": "markdown",
   "id": "41f9ffff",
   "metadata": {
    "id": "41f9ffff",
    "pycharm": {
     "name": "#%% md\n"
    }
   },
   "source": [
    "Applications produces enormous amount of data every day. Most of them are wasted due to the high workload of processing, especially in real-time. As you can see from the examples, even if it is a simple map search, the algorithmic complexity and effort to execute the filter are tremendous.\n",
    "\n",
    "Hazelcast offers a simple solution to evaluate and process all your data more easily and quickly as a real-time data processing platform. Using Hazelcast's SQL engine, you can skip all of the details and directly work on the value of your customer's data. You can infer much information without dealing with hundreds of line codes and slow executions.\n",
    "\n",
    "You can follow our website and social media channels to learn about Hazelcast ecosystem more. We would love to answer your questions over our Community channels, find links here: https://hazelcast.com/dev-community/, also feel free to reach out at developer-relations@hazelcast.com."
   ]
  }
 ],
 "metadata": {
  "colab": {
   "collapsed_sections": [],
   "provenance": [],
   "toc_visible": true
  },
  "kernelspec": {
   "display_name": "Python 3 (ipykernel)",
   "language": "python",
   "name": "python3"
  },
  "language_info": {
   "codemirror_mode": {
    "name": "ipython",
    "version": 3
   },
   "file_extension": ".py",
   "mimetype": "text/x-python",
   "name": "python",
   "nbconvert_exporter": "python",
   "pygments_lexer": "ipython3",
   "version": "3.10.6"
  }
 },
 "nbformat": 4,
 "nbformat_minor": 5
}